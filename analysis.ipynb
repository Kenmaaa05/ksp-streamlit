{
 "cells": [
  {
   "cell_type": "code",
   "execution_count": 35,
   "id": "e39bbe20",
   "metadata": {},
   "outputs": [
    {
     "name": "stdout",
     "output_type": "stream",
     "text": [
      "Dataset Info:\n",
      "<class 'pandas.core.frame.DataFrame'>\n",
      "RangeIndex: 1730 entries, 0 to 1729\n",
      "Data columns (total 9 columns):\n",
      " #   Column                  Non-Null Count  Dtype  \n",
      "---  ------                  --------------  -----  \n",
      " 0   Time                    1730 non-null   float64\n",
      " 1   Altitude (m)            1730 non-null   float64\n",
      " 2   Orbital Velocity (m/s)  1730 non-null   float64\n",
      " 3   Apoapsis (m)            1730 non-null   float64\n",
      " 4   Periapsis (m)           1730 non-null   float64\n",
      " 5   Inclination (deg)       1730 non-null   float64\n",
      " 6   Battery (%)             1730 non-null   float64\n",
      " 7   Inside Temp (K)         1730 non-null   float64\n",
      " 8   Outside Temp (K)        1730 non-null   float64\n",
      "dtypes: float64(9)\n",
      "memory usage: 121.8 KB\n",
      "None\n",
      "\n",
      "Descriptive Stats:\n",
      "              Time   Altitude (m)  Orbital Velocity (m/s)  Apoapsis (m)  \\\n",
      "count  1730.000000    1730.000000             1730.000000  1.730000e+03   \n",
      "mean   7299.809883  563541.673447             1654.536574  1.515670e+06   \n",
      "std     506.801574  230952.472284              378.357838  3.333045e-04   \n",
      "min    6421.633583  198482.356412             1177.850706  1.515670e+06   \n",
      "25%    6862.048583  343866.432940             1302.723880  1.515670e+06   \n",
      "50%    7300.143583  587371.838544             1568.503461  1.515670e+06   \n",
      "75%    7738.263583  782182.624104             1994.999698  1.515670e+06   \n",
      "max    8176.033583  892375.817322             2318.551838  1.515670e+06   \n",
      "\n",
      "       Periapsis (m)  Inclination (deg)  Battery (%)  Inside Temp (K)  \\\n",
      "count    1730.000000       1.730000e+03  1730.000000      1730.000000   \n",
      "mean   798330.000033       1.136209e+00    22.223325       301.874500   \n",
      "std         0.000089       3.574126e-11    12.798020         4.034338   \n",
      "min    798329.999804       1.136209e+00     0.096463       294.279460   \n",
      "25%    798329.999975       1.136209e+00    11.151262       298.433943   \n",
      "50%    798330.000032       1.136209e+00    22.214898       301.856004   \n",
      "75%    798330.000087       1.136209e+00    33.277903       305.427941   \n",
      "max    798330.000269       1.136209e+00    44.399497       308.568674   \n",
      "\n",
      "       Outside Temp (K)  \n",
      "count       1730.000000  \n",
      "mean         301.874500  \n",
      "std            4.034338  \n",
      "min          294.279460  \n",
      "25%          298.433943  \n",
      "50%          301.856004  \n",
      "75%          305.427941  \n",
      "max          308.568674  \n"
     ]
    }
   ],
   "source": [
    "import pandas as pd\n",
    "\n",
    "# Load and clean the data\n",
    "df = pd.read_csv(\"kerbnik_1_telemetry.csv\")\n",
    "df.columns = df.columns.str.strip()\n",
    "\n",
    "# Basic info\n",
    "print(\"Dataset Info:\")\n",
    "print(df.info())\n",
    "print(\"\\nDescriptive Stats:\")\n",
    "print(df.describe())\n"
   ]
  },
  {
   "cell_type": "code",
   "execution_count": 36,
   "id": "ed1a669e",
   "metadata": {},
   "outputs": [
    {
     "name": "stdout",
     "output_type": "stream",
     "text": [
      "Battery started at 44.39949729225852%\n",
      "Battery reached 0.0964625721628015% at time 8176.033582822348 s\n",
      "Average battery drain rate: 0.02525252776968119% per second\n"
     ]
    }
   ],
   "source": [
    "# Summary print\n",
    "# Battery analysis\n",
    "\n",
    "battery_min = df[\"Battery (%)\"].min()\n",
    "battery_end_time = df.loc[df[\"Battery (%)\"].idxmin(), \"Time\"]\n",
    "battery_start = df[\"Battery (%)\"].iloc[0]\n",
    "battery_drain_rate = (battery_start - battery_min) / (df[\"Time\"].iloc[-1] - df[\"Time\"].iloc[0])\n",
    "\n",
    "print(f\"Battery started at {battery_start}%\")\n",
    "print(f\"Battery reached {battery_min}% at time {battery_end_time} s\")\n",
    "print(f\"Average battery drain rate: {battery_drain_rate}% per second\")"
   ]
  },
  {
   "cell_type": "code",
   "execution_count": 37,
   "id": "cfdbf715",
   "metadata": {},
   "outputs": [
    {
     "name": "stdout",
     "output_type": "stream",
     "text": [
      "Peak orbital velocity: 2318.5518380200283 m/s\n",
      "Max altitude: 892375.8173219843 m at 8176.033582822348 s\n",
      "Max velocity: 2318.5518380200283 m/s at 6421.633582784053 s\n"
     ]
    }
   ],
   "source": [
    "# Orbital velocity\n",
    "peak_velocity = df[\"Orbital Velocity (m/s)\"].max()\n",
    "print(f\"Peak orbital velocity: {peak_velocity} m/s\")\n",
    "\n",
    "# Time of Peak Altitude & Velocity\n",
    "max_altitude = df[\"Altitude (m)\"].max()\n",
    "altitude_time = df.loc[df[\"Altitude (m)\"].idxmax(), \"Time\"]\n",
    "\n",
    "velocity_time = df.loc[df[\"Orbital Velocity (m/s)\"].idxmax(), \"Time\"]\n",
    "\n",
    "print(f\"Max altitude: {max_altitude} m at {altitude_time} s\")\n",
    "print(f\"Max velocity: {peak_velocity} m/s at {velocity_time} s\")\n"
   ]
  },
  {
   "cell_type": "code",
   "execution_count": 38,
   "id": "bcb05ca0",
   "metadata": {},
   "outputs": [
    {
     "name": "stdout",
     "output_type": "stream",
     "text": [
      "Apoapsis variation: 0.001302993157878518 m\n",
      "Periapsis variation: 0.0004648519679903984 m\n",
      "Apoapsis Std Dev: 0.0003333044530028595 m (high = instability)\n",
      "Periapsis Std Dev: 8.865521027746014e-05 m\n"
     ]
    }
   ],
   "source": [
    "# Apoapsis and Periapsis range\n",
    "apoapsis_range = df[\"Apoapsis (m)\"].max() - df[\"Apoapsis (m)\"].min()\n",
    "periapsis_range = df[\"Periapsis (m)\"].max() - df[\"Periapsis (m)\"].min()\n",
    "print(f\"Apoapsis variation: {apoapsis_range} m\")\n",
    "print(f\"Periapsis variation: {periapsis_range} m\")\n",
    "\n",
    "# Stability Check: Apoapsis & Periapsis Standard Deviation\n",
    "apoapsis_std = df[\"Apoapsis (m)\"].std()\n",
    "periapsis_std = df[\"Periapsis (m)\"].std()\n",
    "\n",
    "print(f\"Apoapsis Std Dev: {apoapsis_std} m (high = instability)\")\n",
    "print(f\"Periapsis Std Dev: {periapsis_std} m\")"
   ]
  },
  {
   "cell_type": "code",
   "execution_count": 39,
   "id": "ccc9f4d1",
   "metadata": {},
   "outputs": [
    {
     "name": "stdout",
     "output_type": "stream",
     "text": [
      "Max inside temp: 308.56867393417343 K | outside temp: 308.56867393417343 K\n",
      "Inside temp dropped 14.289213759548431 K over 1754.4000000382948 s (~0.008144786684471345 K/s)\n",
      "Outside temp dropped 14.289213759548431 K over 1754.4000000382948 s (~0.008144786684471345 K/s)\n"
     ]
    }
   ],
   "source": [
    "# Temp\n",
    "max_inside_temp = df[\"Inside Temp (K)\"].max()\n",
    "max_outside_temp = df[\"Outside Temp (K)\"].max()\n",
    "print(f\"Max inside temp: {max_inside_temp} K | outside temp: {max_outside_temp} K\")\n",
    "\n",
    "\n",
    "# Rate of Temperature Drop\n",
    "temp_drop_inside = df[\"Inside Temp (K)\"].iloc[0] - df[\"Inside Temp (K)\"].iloc[-1]\n",
    "temp_drop_outside = df[\"Outside Temp (K)\"].iloc[0] - df[\"Outside Temp (K)\"].iloc[-1]\n",
    "total_time = df[\"Time\"].iloc[-1] - df[\"Time\"].iloc[0]\n",
    "\n",
    "rate_inside = temp_drop_inside / total_time\n",
    "rate_outside = temp_drop_outside / total_time\n",
    "\n",
    "print(f\"Inside temp dropped {temp_drop_inside} K over {total_time} s (~{rate_inside} K/s)\")\n",
    "print(f\"Outside temp dropped {temp_drop_outside} K over {total_time} s (~{rate_outside} K/s)\")"
   ]
  },
  {
   "cell_type": "code",
   "execution_count": 40,
   "id": "6a20e46a",
   "metadata": {},
   "outputs": [
    {
     "name": "stdout",
     "output_type": "stream",
     "text": [
      "Inclination changed by 1.5125611874111655e-10°\n",
      "Inclination standard deviation: 3.574126148942333e-11°\n"
     ]
    }
   ],
   "source": [
    "inclination_start = df[\"Inclination (deg)\"].iloc[0]\n",
    "inclination_end = df[\"Inclination (deg)\"].iloc[-1]\n",
    "inclination_change = inclination_end - inclination_start\n",
    "inclination_std = df[\"Inclination (deg)\"].std()\n",
    "\n",
    "print(f\"Inclination changed by {inclination_change}°\")\n",
    "print(f\"Inclination standard deviation: {inclination_std}°\")\n"
   ]
  },
  {
   "cell_type": "code",
   "execution_count": 41,
   "id": "602b1282",
   "metadata": {},
   "outputs": [
    {
     "name": "stdout",
     "output_type": "stream",
     "text": [
      "Verdict: Orbit likely achieved.\n"
     ]
    }
   ],
   "source": [
    "\n",
    "# Orbital Failure Verdict\n",
    "if peak_velocity < 3000 and battery_life_pct < 100:\n",
    "    print(\"Verdict: Orbit not achieved before battery died.\")\n",
    "elif apoapsis_std > 100000:\n",
    "    print(\"Verdict: Orbit likely unstable (high apoapsis variance).\")\n",
    "else:\n",
    "    print(\"Verdict: Orbit likely achieved.\")"
   ]
  }
 ],
 "metadata": {
  "kernelspec": {
   "display_name": "Python 3",
   "language": "python",
   "name": "python3"
  },
  "language_info": {
   "codemirror_mode": {
    "name": "ipython",
    "version": 3
   },
   "file_extension": ".py",
   "mimetype": "text/x-python",
   "name": "python",
   "nbconvert_exporter": "python",
   "pygments_lexer": "ipython3",
   "version": "3.12.2"
  }
 },
 "nbformat": 4,
 "nbformat_minor": 5
}
